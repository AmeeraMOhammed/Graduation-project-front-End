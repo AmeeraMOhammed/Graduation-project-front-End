{
 "cells": [
  {
   "cell_type": "code",
   "execution_count": 3,
   "metadata": {},
   "outputs": [],
   "source": [
    "import json\n",
    "import os\n",
    "\n",
    "# Load Kaggle API credentials\n",
    "with open('kaggle.json') as f:\n",
    "    kaggle_creds = json.load(f)\n",
    "\n",
    "os.environ['KAGGLE_USERNAME'] = kaggle_creds['username']\n",
    "os.environ['KAGGLE_KEY'] = kaggle_creds['key']"
   ]
  },
  {
   "cell_type": "code",
   "execution_count": 13,
   "metadata": {},
   "outputs": [
    {
     "name": "stdout",
     "output_type": "stream",
     "text": [
      "Predicted class: Moderate eye paralysis\n"
     ]
    }
   ],
   "source": [
    "import torch\n",
    "import torchvision.transforms as transforms\n",
    "from PIL import Image\n",
    "import torch.nn as nn\n",
    "\n",
    "# Define the custom CNN model\n",
    "class CustomCNN(nn.Module):\n",
    "    def __init__(self):\n",
    "        super(CustomCNN, self).__init__()\n",
    "        self.conv1 = nn.Conv2d(3, 32, 3, 1)\n",
    "        self.conv2 = nn.Conv2d(32, 64, 3, 1)\n",
    "        self.fc1 = nn.Linear(64 * 126 * 126, 128)\n",
    "        self.fc2 = nn.Linear(128, 4)  # Adjust the number of output classes\n",
    "\n",
    "    def forward(self, x):\n",
    "        x = torch.relu(self.conv1(x))\n",
    "        x = torch.max_pool2d(x, 2, 2)\n",
    "        x = torch.relu(self.conv2(x))\n",
    "        x = torch.max_pool2d(x, 2, 2)\n",
    "        x = torch.flatten(x, 1)\n",
    "        x = torch.relu(self.fc1(x))\n",
    "        x = self.fc2(x)\n",
    "        return x\n",
    "\n",
    "# Load the pretrained model\n",
    "device = torch.device(\"cuda\" if torch.cuda.is_available() else \"cpu\")\n",
    "model = CustomCNN()\n",
    "model.load_state_dict(torch.load(\"epoch10_eyebrows.pt\", map_location=torch.device('cpu')))\n",
    "model.to(device)\n",
    "model.eval()\n",
    "\n",
    "# Define the image transformations\n",
    "transform = transforms.Compose([\n",
    "    transforms.Resize((512, 512)),\n",
    "    transforms.ToTensor(),\n",
    "])\n",
    "\n",
    "# Define the class to index mapping\n",
    "class_mapping = {\n",
    "    0: 'Mild eyebrow paralysis',\n",
    "    1: 'Moderate eyebrow paralysis',\n",
    "    2: 'Moderate Severe eyebrow paralysis',\n",
    "    3: 'Severe eyebrow paralysis'\n",
    "}\n",
    "\n",
    "def predict_image(image_path):\n",
    "    image = Image.open(image_path).convert('RGB')\n",
    "    image = transform(image).unsqueeze(0).to(device)\n",
    "    with torch.no_grad():\n",
    "        outputs = model(image)\n",
    "        _, predicted = torch.max(outputs, 1)\n",
    "    return class_mapping[predicted.item()]\n",
    "\n",
    "# Example usage\n",
    "if __name__ == \"__main__\":\n",
    "    image_path = \"moderate_eyebrow.jpeg\"\n",
    "    prediction = predict_image(image_path)\n",
    "    print(\"Predicted class:\", prediction)\n"
   ]
  }
 ],
 "metadata": {
  "kernelspec": {
   "display_name": "Python 3",
   "language": "python",
   "name": "python3"
  },
  "language_info": {
   "codemirror_mode": {
    "name": "ipython",
    "version": 3
   },
   "file_extension": ".py",
   "mimetype": "text/x-python",
   "name": "python",
   "nbconvert_exporter": "python",
   "pygments_lexer": "ipython3",
   "version": "3.10.7"
  }
 },
 "nbformat": 4,
 "nbformat_minor": 2
}
